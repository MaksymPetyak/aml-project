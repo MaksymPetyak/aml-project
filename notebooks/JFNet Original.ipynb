{
 "cells": [
  {
   "cell_type": "markdown",
   "metadata": {},
   "source": [
    "This notebook shows stats of the original lasagne JFNET implementation and saving weights (only works with docker container)"
   ]
  },
  {
   "cell_type": "code",
   "execution_count": 1,
   "metadata": {},
   "outputs": [
    {
     "name": "stderr",
     "output_type": "stream",
     "text": [
      "Using Theano backend.\n",
      "WARNING (theano.sandbox.cuda): The cuda backend is deprecated and will be removed in the next release (v0.10).  Please switch to the gpuarray backend. You can get more information about how to switch at this URL:\n",
      " https://github.com/Theano/Theano/wiki/Converting-to-the-new-gpu-back-end%28gpuarray%29\n",
      "\n",
      "Using gpu device 0: Tesla K80 (CNMeM is disabled, cuDNN 5110)\n"
     ]
    }
   ],
   "source": [
    "import datasets\n",
    "import models\n",
    "\n",
    "import numpy as np\n",
    "import lasagne\n",
    "import matplotlib.pyplot as plt\n",
    "import seaborn as sns\n",
    "\n",
    "import pickle\n",
    "\n",
    "%matplotlib inline"
   ]
  },
  {
   "cell_type": "code",
   "execution_count": 2,
   "metadata": {},
   "outputs": [],
   "source": [
    "jfnet = models.JFnet()"
   ]
  },
  {
   "cell_type": "code",
   "execution_count": 3,
   "metadata": {},
   "outputs": [],
   "source": [
    "layers = jfnet.net.values()"
   ]
  },
  {
   "cell_type": "code",
   "execution_count": 4,
   "metadata": {
    "scrolled": true
   },
   "outputs": [
    {
     "data": {
      "text/plain": [
       "[(None, 3, 512, 512),\n",
       " (None, 32, 256, 256),\n",
       " (None, 32, 256, 256),\n",
       " (None, 32, 127, 127),\n",
       " (None, 32, 127, 127),\n",
       " (None, 32, 127, 127),\n",
       " (None, 32, 127, 127),\n",
       " (None, 32, 127, 127),\n",
       " (None, 32, 63, 63),\n",
       " (None, 64, 63, 63),\n",
       " (None, 64, 63, 63),\n",
       " (None, 64, 63, 63),\n",
       " (None, 64, 63, 63),\n",
       " (None, 64, 31, 31),\n",
       " (None, 128, 31, 31),\n",
       " (None, 128, 31, 31),\n",
       " (None, 128, 31, 31),\n",
       " (None, 128, 31, 31),\n",
       " (None, 128, 31, 31),\n",
       " (None, 128, 31, 31),\n",
       " (None, 128, 31, 31),\n",
       " (None, 128, 31, 31),\n",
       " (None, 128, 15, 15),\n",
       " (None, 256, 15, 15),\n",
       " (None, 256, 15, 15),\n",
       " (None, 256, 15, 15),\n",
       " (None, 256, 15, 15),\n",
       " (None, 256, 15, 15),\n",
       " (None, 256, 15, 15),\n",
       " (None, 256, 15, 15),\n",
       " (None, 256, 15, 15),\n",
       " (None, 256, 7, 7),\n",
       " (None, 256, 7, 7),\n",
       " (None, 1024),\n",
       " (None, 512),\n",
       " (None, 2),\n",
       " (None, 514),\n",
       " (None, 1028),\n",
       " (None, 1028),\n",
       " (None, 1024),\n",
       " (None, 512),\n",
       " (None, 512),\n",
       " (None, 10),\n",
       " (None, 5),\n",
       " (None, 5)]"
      ]
     },
     "execution_count": 4,
     "metadata": {},
     "output_type": "execute_result"
    }
   ],
   "source": [
    "lasagne.layers.get_output_shape(layers)"
   ]
  },
  {
   "cell_type": "code",
   "execution_count": 5,
   "metadata": {},
   "outputs": [
    {
     "name": "stdout",
     "output_type": "stream",
     "text": [
      "Total number of parameters: 20923690\n"
     ]
    }
   ],
   "source": [
    "print(\"Total number of parameters: \" + str(lasagne.layers.count_params(layers)))"
   ]
  },
  {
   "cell_type": "code",
   "execution_count": 6,
   "metadata": {},
   "outputs": [],
   "source": [
    "def get_params_shape(layers):\n",
    "    param_values = lasagne.layers.get_all_param_values(layers)\n",
    "    param_shapes = [params.shape for params in param_values]\n",
    "    return param_shapes"
   ]
  },
  {
   "cell_type": "code",
   "execution_count": 7,
   "metadata": {},
   "outputs": [
    {
     "name": "stdout",
     "output_type": "stream",
     "text": [
      "['Conv_1_W', 'Conv_1_b', 'Conv_2_W', 'Conv_2_b', 'Conv_3_W', 'Conv_3_b', 'Conv_4_W', 'Conv_4_b', 'Conv_5_W', 'Conv_5_b', 'Conv_6_W', 'Conv_6_b', 'Conv_7_W', 'Conv_7_b', 'Conv_8_W', 'Conv_8_b', 'Conv_9_W', 'Conv_9_b', 'Conv_10_W', 'Conv_10_b', 'Conv_11_W', 'Conv_11_b', 'Conv_12_W', 'Conv_12_b', 'Conv_13_W', 'Conv_13_b', 'Dense_1_W', 'Dense_1_b', 'Dense_2_W', 'Dense_2_b', 'Dense_3_W', 'Dense_3_b']\n"
     ]
    }
   ],
   "source": [
    "# number conv layers and make custom names for dense layers\n",
    "params_names = [\"Conv_{}_{}\".format(i // 2 + 1, n) for i, n in enumerate(lasagne.layers.get_all_params(layers)[:-6])]\n",
    "params_names += ['Dense_1_W', 'Dense_1_b', 'Dense_2_W', 'Dense_2_b', 'Dense_3_W', 'Dense_3_b']\n",
    "print(params_names)"
   ]
  },
  {
   "cell_type": "code",
   "execution_count": 8,
   "metadata": {},
   "outputs": [
    {
     "name": "stdout",
     "output_type": "stream",
     "text": [
      "('Conv_1_W', (32, 3, 7, 7), 4704)\n",
      "('Conv_1_b', (32, 256, 256), 2097152)\n",
      "('Conv_2_W', (32, 32, 3, 3), 9216)\n",
      "('Conv_2_b', (32, 127, 127), 516128)\n",
      "('Conv_3_W', (32, 32, 3, 3), 9216)\n",
      "('Conv_3_b', (32, 127, 127), 516128)\n",
      "('Conv_4_W', (64, 32, 3, 3), 18432)\n",
      "('Conv_4_b', (64, 63, 63), 254016)\n",
      "('Conv_5_W', (64, 64, 3, 3), 36864)\n",
      "('Conv_5_b', (64, 63, 63), 254016)\n",
      "('Conv_6_W', (128, 64, 3, 3), 73728)\n",
      "('Conv_6_b', (128, 31, 31), 123008)\n",
      "('Conv_7_W', (128, 128, 3, 3), 147456)\n",
      "('Conv_7_b', (128, 31, 31), 123008)\n",
      "('Conv_8_W', (128, 128, 3, 3), 147456)\n",
      "('Conv_8_b', (128, 31, 31), 123008)\n",
      "('Conv_9_W', (128, 128, 3, 3), 147456)\n",
      "('Conv_9_b', (128, 31, 31), 123008)\n",
      "('Conv_10_W', (256, 128, 3, 3), 294912)\n",
      "('Conv_10_b', (256, 15, 15), 57600)\n",
      "('Conv_11_W', (256, 256, 3, 3), 589824)\n",
      "('Conv_11_b', (256, 15, 15), 57600)\n",
      "('Conv_12_W', (256, 256, 3, 3), 589824)\n",
      "('Conv_12_b', (256, 15, 15), 57600)\n",
      "('Conv_13_W', (256, 256, 3, 3), 589824)\n",
      "('Conv_13_b', (256, 15, 15), 57600)\n",
      "('Dense_1_W', (12544, 1024), 12845056)\n",
      "('Dense_1_b', (1024,), 1024)\n",
      "('Dense_2_W', (1028, 1024), 1052672)\n",
      "('Dense_2_b', (1024,), 1024)\n",
      "('Dense_3_W', (512, 10), 5120)\n",
      "('Dense_3_b', (10,), 10)\n"
     ]
    }
   ],
   "source": [
    "# print total weight count for each trainable layers along with shape parameters take\n",
    "shapes = [np.prod(param_shape) for param_shape in get_params_shape(layers)]\n",
    "for l in zip(params_names, get_params_shape(layers), shapes):\n",
    "    print(l)"
   ]
  },
  {
   "cell_type": "code",
   "execution_count": 9,
   "metadata": {},
   "outputs": [
    {
     "data": {
      "text/plain": [
       "array([ 0.59162462,  0.04647866,  0.40189323, -0.12301593, -0.41697878,\n",
       "        0.63765049,  0.02411902,  0.39341599, -0.03656115, -0.51861304], dtype=float32)"
      ]
     },
     "execution_count": 9,
     "metadata": {},
     "output_type": "execute_result"
    }
   ],
   "source": [
    "# save weights as a dictionary name-weights\n",
    "weights = lasagne.layers.get_all_param_values(layers)\n",
    "layer_weights_dict = dict(zip(params_names, weights))\n",
    "layer_weights_dict['Dense_3_b']"
   ]
  },
  {
   "cell_type": "code",
   "execution_count": 10,
   "metadata": {},
   "outputs": [],
   "source": [
    "with open('JFNET_weights.pickle', 'wb') as handle:\n",
    "    pickle.dump(layer_weights_dict, handle, protocol=pickle.HIGHEST_PROTOCOL)"
   ]
  },
  {
   "cell_type": "code",
   "execution_count": 13,
   "metadata": {},
   "outputs": [
    {
     "name": "stdout",
     "output_type": "stream",
     "text": [
      "JFNET_weights.pickle  data\t    environment.yml  models.py\t training.py\r\n",
      "JFNet Original.ipynb  datasets.py   example.ipynb    models.pyc  util.py\r\n",
      "README.md\t      datasets.pyc  licenses.txt     scripts\r\n",
      "__init__.py\t      docker\t    models\t     tests\r\n"
     ]
    }
   ],
   "source": [
    "!ls "
   ]
  }
 ],
 "metadata": {
  "kernelspec": {
   "display_name": "Python 2",
   "language": "python",
   "name": "python2"
  },
  "language_info": {
   "codemirror_mode": {
    "name": "ipython",
    "version": 2
   },
   "file_extension": ".py",
   "mimetype": "text/x-python",
   "name": "python",
   "nbconvert_exporter": "python",
   "pygments_lexer": "ipython2",
   "version": "2.7.15"
  }
 },
 "nbformat": 4,
 "nbformat_minor": 2
}
